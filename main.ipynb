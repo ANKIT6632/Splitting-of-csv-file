{
 "cells": [
  {
   "cell_type": "code",
   "execution_count": null,
   "metadata": {},
   "outputs": [],
   "source": [
    "import pandas as pd\n",
    "\n",
    "#Number of lines to be in each splitted file\n",
    "chunk_size=1300000\n",
    "\n",
    "#To give unique name to each splitted file\n",
    "file_no=1\n",
    "\n",
    "#Sample.csv-original file containing millions of records\n",
    "for chunk in pd.read_csv('Sample.csv',chunksize=chunk_size):\n",
    "    chunk.to_csv('Chunk_'+str(file_no)+'.csv')\n",
    "    file_no+=1\n",
    "print(\"Total \"+str(file_no-1)+ \" Chunks Created\")"
   ]
  }
 ],
 "metadata": {
  "kernelspec": {
   "display_name": "Python 3",
   "language": "python",
   "name": "python3"
  },
  "language_info": {
   "codemirror_mode": {
    "name": "ipython",
    "version": 3
   },
   "file_extension": ".py",
   "mimetype": "text/x-python",
   "name": "python",
   "nbconvert_exporter": "python",
   "pygments_lexer": "ipython3",
   "version": "3.8.5"
  }
 },
 "nbformat": 4,
 "nbformat_minor": 4
}
